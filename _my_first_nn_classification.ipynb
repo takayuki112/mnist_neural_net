{
  "cells": [
    {
      "cell_type": "code",
      "execution_count": 9,
      "metadata": {
        "colab": {
          "base_uri": "https://localhost:8080/"
        },
        "id": "Zs0aAW3dVj9y",
        "outputId": "bc057c6f-1c07-4003-9dd0-5b192997ad7c"
      },
      "outputs": [
        {
          "name": "stdout",
          "output_type": "stream",
          "text": [
            "Drive already mounted at /content/drive; to attempt to forcibly remount, call drive.mount(\"/content/drive\", force_remount=True).\n"
          ]
        }
      ],
      "source": [
        "from google.colab import drive\n",
        "drive.mount('/content/drive')"
      ]
    },
    {
      "cell_type": "code",
      "execution_count": 10,
      "metadata": {
        "id": "Q_Wpo3NaUdXS"
      },
      "outputs": [],
      "source": [
        "import numpy as np\n",
        "import pandas as pd\n",
        "import matplotlib.pyplot as plt\n",
        "import random\n"
      ]
    },
    {
      "cell_type": "code",
      "execution_count": 11,
      "metadata": {
        "colab": {
          "base_uri": "https://localhost:8080/"
        },
        "id": "T2UFm7X9UdXV",
        "outputId": "007f062d-568b-4799-94cf-224d346fd2ce"
      },
      "outputs": [
        {
          "name": "stdout",
          "output_type": "stream",
          "text": [
            "(60000, 28, 28)\n",
            "(60000,)\n"
          ]
        }
      ],
      "source": [
        "#Loading the Data\n",
        "Data = pd.read_pickle(\"/content/drive/MyDrive/Colab Notebooks/dataset.pkl\")\n",
        "X_data = Data['data']\n",
        "Y_data = Data['labels']\n",
        "print(X_data.shape)\n",
        "print(Y_data.shape)"
      ]
    },
    {
      "cell_type": "code",
      "execution_count": 12,
      "metadata": {
        "colab": {
          "base_uri": "https://localhost:8080/",
          "height": 265
        },
        "id": "K7Or1cQtUdXX",
        "outputId": "f7476493-0e21-4ed4-bd5e-c9f518ec0ed5"
      },
      "outputs": [
        {
          "data": {
            "image/png": "[encoded data removed]",
            "text/plain": [
              "<Figure size 432x288 with 1 Axes>"
            ]
          },
          "metadata": {
            "needs_background": "light"
          },
          "output_type": "display_data"
        }
      ],
      "source": [
        "#Looking at some of the images we are working with - \n",
        "for i in range(1):\n",
        "    img = X_data[i]\n",
        "    plt.imshow(img)\n",
        "    plt.show()"
      ]
    },
    {
      "cell_type": "code",
      "execution_count": 22,
      "metadata": {
        "colab": {
          "base_uri": "https://localhost:8080/"
        },
        "id": "SU7kom0AUdXY",
        "outputId": "15860895-c234-42e8-893c-7e227aa10b3b"
      },
      "outputs": [
        {
          "name": "stdout",
          "output_type": "stream",
          "text": [
            "(784, 30000)\n",
            "(784, 29999)\n",
            "(1, 30000)\n",
            "(1, 29999)\n",
            "(29999, 28, 28)\n"
          ]
        }
      ],
      "source": [
        "#Data Split\n",
        "\n",
        "Training_size = 30000\n",
        "\n",
        "X_flat = X_data.reshape(X_data.shape[0], 784).T\n",
        "\n",
        "X_train = X_flat.T[0: Training_size].T\n",
        "Y_train = Y_data[0:Training_size].reshape(1, Training_size)\n",
        "\n",
        "X_test = X_flat.T[Training_size + 1:].T\n",
        "Y_test = Y_data[Training_size + 1:]\n",
        "Y_test = Y_test.reshape(1, Y_test.size)\n",
        "\n",
        "print(X_train.shape)\n",
        "print(X_test.shape)\n",
        "print(Y_train.shape)\n",
        "print(Y_test.shape)\n",
        "\n",
        "\n",
        "X_test_org = X_data[Training_size + 1:]\n",
        "print(X_test_org.shape)"
      ]
    },
    {
      "cell_type": "code",
      "execution_count": 14,
      "metadata": {
        "id": "xnXd1jRqUdXZ"
      },
      "outputs": [],
      "source": [
        "#PSEUDO CODE\n",
        "\n",
        "# First, we decide how many hidden layers & how many nodes we want in each layer\n",
        "# I have used 1 hidden layer with 10 nodes in this implementation\n",
        "\n",
        "# Then we start by randonmly initializing the required number of weights and biases for each layer\n",
        "\n",
        "# And then we run Gradient Desent - \n",
        "\n",
        "# repeat {\n",
        "#   forward propagation - to compute the outputs (through the network) for the current parameters\n",
        "#   backword propagation - to compute the derievatives of the parameters at the current point in gradient desent\n",
        "#   update parameters - use gradient desent to take a step towards optimal parameters\n",
        "# }"
      ]
    },
    {
      "cell_type": "code",
      "execution_count": 15,
      "metadata": {
        "id": "DSayhPYUUdXZ"
      },
      "outputs": [],
      "source": [
        "class neural_net():\n",
        "\n",
        "    def __init__(s):\n",
        "        pass\n",
        "\n",
        "    def train_model(s, X, Y, learning_rate, itr):\n",
        "        s.X = X\n",
        "        s.Y = Y\n",
        "        s.lr = learning_rate\n",
        "        \n",
        "        s.n_pxls, s.n_samples = s.X.shape\n",
        "        s.cost_values = []\n",
        "        \n",
        "        #Initialise parameters \n",
        "        s.initialize_parameters()\n",
        "        \n",
        "        #Gradient desent\n",
        "        for i in range(itr):\n",
        "            s.fwd_prop()\n",
        "            s.bkwd_prop()\n",
        "            s.update_params()\n",
        "\n",
        "            cost = s.cost(s.A2, Y)\n",
        "            s.cost_values.append(cost)\n",
        "            s.train_acc = 0.0\n",
        "            \n",
        "            #Printing Training progress\n",
        "            if(i % 100 == 0 and i>0):\n",
        "                print('Iteration = ', i)\n",
        "                preds = s.arg_max(s.A2)\n",
        "                \n",
        "                print(\"Cost = \", cost)\n",
        "                s.train_acc = s.get_accuracy(preds, s.Y)\n",
        "                print(\"Accuracy on Training Dataset = \", s.train_acc)\n",
        "                #plt.plot(range(i+1), s.cost_values)\n",
        "                '''\n",
        "                print(s.dW1[0:2][0:2])\n",
        "                print(s.db1[0:2][0:2])\n",
        "                print(preds[0:20])\n",
        "                print('\\n')'''\n",
        "        \n",
        "        s.train_acc = s.get_accuracy(preds, s.Y)\n",
        "        plt.plot(range(itr), s.cost_values)\n",
        "                \n",
        "\n",
        "    \n",
        "    #Functions used for training - \n",
        "\n",
        "    def initialize_parameters(s):\n",
        "\n",
        "        s.W1 = np.random.randn(10,784) * 0.01\n",
        "        s.b1 = np.zeros((10, 1))\n",
        "        s.W2 = np.random.randn(10, 10) * 0.01\n",
        "        s.b2 = np.zeros((10, 1))\n",
        "\n",
        "    def fwd_prop(s):\n",
        "        \n",
        "        # Z1 - Unactivated 1st (hidden) layer\n",
        "        # A1 - Outputs of the 1st layer (from the ReLU/tanh Activation function)\n",
        "        s.Z1 = np.dot(s.W1, s.X) + s.b1\n",
        "        s.A1 = s._tanh(s.Z1)\n",
        "\n",
        "        # Similarly Z2, and A2 for our 2nd layer\n",
        "        s.Z2 = np.dot(s.W2, s.A1) + s.b2\n",
        "        s.A2 = s._softmax(s.Z2)\n",
        "        \n",
        "        #The shapes of these are - (10, train_size)\n",
        "        \n",
        "\n",
        "    def bkwd_prop(s):\n",
        "        \n",
        "        #These are the derivatives of our cross entropy cost function with respect to the parameters\n",
        "        #These expressions have been derieved using the chain rule...\n",
        "\n",
        "        s.dZ2 = s.A2 - s._one_hot(s.Y)\n",
        "        s.dW2 = (1/s.n_samples) * np.dot(s.dZ2, s.A1.T)\n",
        "        s.db2 = (1/s.n_samples) * np.sum(s.dZ2, axis = 1, keepdims = True)\n",
        "\n",
        "        s.dZ1 = np.dot(s.W2.T, s.dZ2) * s._d_tanh(s.Z1)\n",
        "        s.dW1 = (1/s.n_samples) * np.dot(s.dZ1, s.X.T)\n",
        "        s.db1 = (1/s.n_samples) * np.sum(s.dZ1, axis = 1, keepdims = True)           \n",
        "    \n",
        "    def update_params(s):\n",
        "        # For each step of gradient desent, simulataneous updates of all params\n",
        "        s.W1 = s.W1 - s.lr * s.dW1\n",
        "        s.b1 = s.b1 - s.lr * s.db1\n",
        "\n",
        "        s.W2 = s.W2 - s.lr * s.dW2\n",
        "        s.b2 = s.b2 - s.lr * s.db2\n",
        "        \n",
        "\n",
        "\n",
        "    # Predictions & Accuracy Functions\n",
        "\n",
        "    def predict(s, X_test, Y_test):\n",
        "\n",
        "        #We compute the final funtions of our model based on the current/optimized parameters\n",
        "        fZ1 = np.dot(s.W1, X_test) + s.b1\n",
        "        fA1 = s._tanh(fZ1)\n",
        "        fZ2 = np.dot(s.W2, fA1) + s.b2\n",
        "        fA2 = s._softmax(fZ2)\n",
        "\n",
        "        #Then pass the output through argmax to get the index of the most probable label\n",
        "        preds = s.arg_max(fA2)\n",
        "        print('Testing Accuracy = ', s.get_accuracy(preds, Y_test))\n",
        "        return preds\n",
        "\n",
        "    def arg_max(s, A2):\n",
        "        return np.argmax(A2, 0)\n",
        "    \n",
        "    def get_accuracy(s, preds, Y):\n",
        "        #Number of cases where prediction is correct, devided by total cases\n",
        "        accuracy = np.sum(preds == Y)/Y.size\n",
        "        return accuracy\n",
        "    \n",
        "    def cost(s, A2, Y) :\n",
        "        #Cross entropy Cost wrt softmax\n",
        "        return ( -1 / s.n_samples ) *  np.sum(s._one_hot(Y)*np.log(A2))\n",
        "\n",
        "    #Some secondary Helper functions used above\n",
        "\n",
        "    def _ReLU(s, Z):\n",
        "        return np.maximum(Z, 0)\n",
        "\n",
        "    def _d_ReLU(s, Z):\n",
        "        #The derievative of ReLU(Z) is 0 when Z is -ve, and 1 whe Z is +ve\n",
        "        return Z > 0\n",
        "\n",
        "    def _softmax(s, Z):\n",
        "        A = np.exp(Z) / np.sum(np.exp(Z), axis=0)\n",
        "        return A\n",
        "    \n",
        "    def _tanh(s, Z):\n",
        "        return np.tanh(Z)       \n",
        "\n",
        "    def _d_tanh(s, Z):\n",
        "        d = 1 - np.square(s._tanh(Z))\n",
        "        #d2 = 1 - np.power(np.tanh, 2)\n",
        "        return d\n",
        "\n",
        "    def _one_hot(s, Y):\n",
        "\n",
        "        #We can't directly subtract Y as required in some of the calculations in back-propagation\n",
        "        # That's why we use one hot encoding\n",
        "        \n",
        "        #First we initialize an empty array - \n",
        "        one_hot_Y = np.zeros((Y.size, Y.max() + 1))\n",
        "\n",
        "        # In each row (training example), we go to the coloumn as specified by the label in Y, and set it to 1\n",
        "        one_hot_Y[np.arange(Y.size), Y] = 1\n",
        "\n",
        "        eye = np.eye(10)[s.Y]\n",
        "        \n",
        "        #Lastly we take the transepose so that each coloumn is a training example (with '0's and a 1)\n",
        "        return one_hot_Y.T"
      ]
    },
    {
      "cell_type": "code",
      "execution_count": 16,
      "metadata": {
        "colab": {
          "base_uri": "https://localhost:8080/",
          "height": 1000
        },
        "id": "JNNjtDcqUdXd",
        "outputId": "7412fc54-7ab8-4dd4-96bb-90288727c4d2"
      },
      "outputs": [
        {
          "name": "stdout",
          "output_type": "stream",
          "text": [
            "Iteration =  100\n",
            "Cost =  1.9099963757466025\n",
            "Accuracy on Training Dataset =  0.4822666666666667\n",
            "Iteration =  200\n",
            "Cost =  1.6373176549635375\n",
            "Accuracy on Training Dataset =  0.5522666666666667\n",
            "Iteration =  300\n",
            "Cost =  1.461780884948385\n",
            "Accuracy on Training Dataset =  0.5860333333333333\n",
            "Iteration =  400\n",
            "Cost =  1.3305869218326978\n",
            "Accuracy on Training Dataset =  0.6229333333333333\n",
            "Iteration =  500\n",
            "Cost =  1.219174438877808\n",
            "Accuracy on Training Dataset =  0.7238333333333333\n",
            "Iteration =  600\n",
            "Cost =  1.1583406707006\n",
            "Accuracy on Training Dataset =  0.7070333333333333\n",
            "Iteration =  700\n",
            "Cost =  1.0614763915304726\n",
            "Accuracy on Training Dataset =  0.749\n",
            "Iteration =  800\n",
            "Cost =  1.0073753931483886\n",
            "Accuracy on Training Dataset =  0.7502666666666666\n",
            "Iteration =  900\n",
            "Cost =  0.9575187449328448\n",
            "Accuracy on Training Dataset =  0.7560333333333333\n",
            "Iteration =  1000\n",
            "Cost =  0.9120858623735332\n",
            "Accuracy on Training Dataset =  0.7700666666666667\n",
            "Iteration =  1100\n",
            "Cost =  0.8810552197470729\n",
            "Accuracy on Training Dataset =  0.7720666666666667\n",
            "Iteration =  1200\n",
            "Cost =  0.8729247816438604\n",
            "Accuracy on Training Dataset =  0.7674666666666666\n",
            "Iteration =  1300\n",
            "Cost =  0.8370657868528812\n",
            "Accuracy on Training Dataset =  0.7735333333333333\n",
            "Iteration =  1400\n",
            "Cost =  0.8151841365693983\n",
            "Accuracy on Training Dataset =  0.7689\n",
            "Iteration =  1500\n",
            "Cost =  0.8086094760205571\n",
            "Accuracy on Training Dataset =  0.7625666666666666\n",
            "Iteration =  1600\n",
            "Cost =  0.754869430965272\n",
            "Accuracy on Training Dataset =  0.7896333333333333\n",
            "Iteration =  1700\n",
            "Cost =  0.7396950375463215\n",
            "Accuracy on Training Dataset =  0.7879333333333334\n",
            "Iteration =  1800\n",
            "Cost =  0.7448154466956898\n",
            "Accuracy on Training Dataset =  0.7743\n",
            "Iteration =  1900\n",
            "Cost =  0.7123499049403083\n",
            "Accuracy on Training Dataset =  0.778\n",
            "Iteration =  2000\n",
            "Cost =  0.6959136294761088\n",
            "Accuracy on Training Dataset =  0.7775666666666666\n",
            "Iteration =  2100\n",
            "Cost =  0.6756957548204533\n",
            "Accuracy on Training Dataset =  0.7902\n",
            "Iteration =  2200\n",
            "Cost =  0.7324525868084036\n",
            "Accuracy on Training Dataset =  0.7486333333333334\n",
            "Iteration =  2300\n",
            "Cost =  0.658980556497643\n",
            "Accuracy on Training Dataset =  0.7926\n",
            "Iteration =  2400\n",
            "Cost =  0.6844633538130137\n",
            "Accuracy on Training Dataset =  0.7698\n",
            "Iteration =  2500\n",
            "Cost =  0.6451237982956656\n",
            "Accuracy on Training Dataset =  0.7918666666666667\n",
            "Iteration =  2600\n",
            "Cost =  0.6438853684372859\n",
            "Accuracy on Training Dataset =  0.7928666666666667\n",
            "Iteration =  2700\n",
            "Cost =  0.6316312886297112\n",
            "Accuracy on Training Dataset =  0.7906666666666666\n",
            "Iteration =  2800\n",
            "Cost =  0.6236230874803227\n",
            "Accuracy on Training Dataset =  0.7983333333333333\n",
            "Iteration =  2900\n",
            "Cost =  0.611813797220326\n",
            "Accuracy on Training Dataset =  0.7958\n",
            "Iteration =  3000\n",
            "Cost =  0.6206859147640199\n",
            "Accuracy on Training Dataset =  0.7938666666666667\n",
            "Iteration =  3100\n",
            "Cost =  0.6236827682651003\n",
            "Accuracy on Training Dataset =  0.7867\n",
            "Iteration =  3200\n",
            "Cost =  0.6028570459059724\n",
            "Accuracy on Training Dataset =  0.8016333333333333\n",
            "Iteration =  3300\n",
            "Cost =  0.6072494978911284\n",
            "Accuracy on Training Dataset =  0.7947333333333333\n",
            "Iteration =  3400\n",
            "Cost =  0.6164436258643129\n",
            "Accuracy on Training Dataset =  0.7727666666666667\n",
            "Testing Accuracy =  0.783859461982066\n",
            "Training accuracy =  77.27666666666667 %\n"
          ]
        },
        {
          "data": {
            "image/png": "[encoded data removed]",
            "text/plain": [
              "<Figure size 432x288 with 1 Axes>"
            ]
          },
          "metadata": {
            "needs_background": "light"
          },
          "output_type": "display_data"
        }
      ],
      "source": [
        "#Traning the model using the above class\n",
        "clothes = neural_net()\n",
        "training_acc = clothes.train_model(X_train, Y_train, learning_rate = 0.01, itr = 3500 )\n",
        "p = clothes.predict(X_test, Y_test)\n",
        "print('Training accuracy = ', clothes.train_acc * 100, '%')"
      ]
    },
    {
      "cell_type": "code",
      "execution_count": 17,
      "metadata": {
        "colab": {
          "base_uri": "https://localhost:8080/",
          "height": 1000
        },
        "id": "O5dWjmdUUdXe",
        "outputId": "ff00b2e7-564a-4163-c218-8e3aa139f9bd"
      },
      "outputs": [
        {
          "name": "stdout",
          "output_type": "stream",
          "text": [
            "Iteration =  100\n",
            "Cost =  1.56439494141558\n",
            "Accuracy on Training Dataset =  0.6331\n",
            "Iteration =  200\n",
            "Cost =  1.2257956028168662\n",
            "Accuracy on Training Dataset =  0.6844\n",
            "Iteration =  300\n",
            "Cost =  1.0612968305794683\n",
            "Accuracy on Training Dataset =  0.6945666666666667\n",
            "Iteration =  400\n",
            "Cost =  0.9798780429292154\n",
            "Accuracy on Training Dataset =  0.7135333333333334\n",
            "Iteration =  500\n",
            "Cost =  0.8685573045214865\n",
            "Accuracy on Training Dataset =  0.7477333333333334\n",
            "Iteration =  600\n",
            "Cost =  0.8138818711814494\n",
            "Accuracy on Training Dataset =  0.7654333333333333\n",
            "Iteration =  700\n",
            "Cost =  0.7804145377667103\n",
            "Accuracy on Training Dataset =  0.7697\n",
            "Iteration =  800\n",
            "Cost =  0.7296131911589914\n",
            "Accuracy on Training Dataset =  0.7814333333333333\n",
            "Iteration =  900\n",
            "Cost =  0.6863924029447794\n",
            "Accuracy on Training Dataset =  0.7939333333333334\n",
            "Iteration =  1000\n",
            "Cost =  0.6791610324306266\n",
            "Accuracy on Training Dataset =  0.8038\n",
            "Iteration =  1100\n",
            "Cost =  0.650202149824717\n",
            "Accuracy on Training Dataset =  0.8074\n",
            "Iteration =  1200\n",
            "Cost =  0.623142364401234\n",
            "Accuracy on Training Dataset =  0.8263333333333334\n",
            "Iteration =  1300\n",
            "Cost =  0.6410545679417803\n",
            "Accuracy on Training Dataset =  0.8012666666666667\n",
            "Iteration =  1400\n",
            "Cost =  0.5947285395902503\n",
            "Accuracy on Training Dataset =  0.8117666666666666\n",
            "Iteration =  1500\n",
            "Cost =  0.59710122004653\n",
            "Accuracy on Training Dataset =  0.8079666666666667\n",
            "Iteration =  1600\n",
            "Cost =  0.5866746271915378\n",
            "Accuracy on Training Dataset =  0.8183666666666667\n",
            "Iteration =  1700\n",
            "Cost =  0.57552480964162\n",
            "Accuracy on Training Dataset =  0.8208333333333333\n",
            "Iteration =  1800\n",
            "Cost =  0.5391853782627277\n",
            "Accuracy on Training Dataset =  0.8362333333333334\n",
            "Iteration =  1900\n",
            "Cost =  0.5494715398328154\n",
            "Accuracy on Training Dataset =  0.8284666666666667\n",
            "Testing Accuracy =  0.8166938897963265\n",
            "Training accuracy =  82.84666666666666 %\n"
          ]
        },
        {
          "data": {
            "image/png": "[encoded data removed]",
            "text/plain": [
              "<Figure size 432x288 with 1 Axes>"
            ]
          },
          "metadata": {
            "needs_background": "light"
          },
          "output_type": "display_data"
        }
      ],
      "source": [
        "# I don't know why, but the cost tends to fluctuate a lot, and gradient desent is not consistent. \n",
        "# Even for a given learning rate and number of iterations, I may end up with different final cost values from gradient desent.\n",
        "# This is probably because the weights are initiated randomly.\n",
        "\n",
        "#That's why I have run the training multiple times to get the best results.\n",
        "\n",
        "training_acc = clothes.train_model(X_train, Y_train, learning_rate = 0.02, itr = 2000 )\n",
        "p = clothes.predict(X_test, Y_test)\n",
        "print('Training accuracy = ', clothes.train_acc * 100, '%')"
      ]
    },
    {
      "cell_type": "code",
      "execution_count": 21,
      "metadata": {
        "colab": {
          "base_uri": "https://localhost:8080/",
          "height": 1000
        },
        "id": "rcVyuZ_bUdXf",
        "outputId": "9c28d4ea-3c9a-455c-c432-a8f419697e68"
      },
      "outputs": [
        {
          "data": {
            "image/png": "[encoded data removed]",
            "text/plain": [
              "<Figure size 432x288 with 1 Axes>"
            ]
          },
          "metadata": {
            "needs_background": "light"
          },
          "output_type": "display_data"
        },
        {
          "name": "stdout",
          "output_type": "stream",
          "text": [
            "Actual Label =  7  -  Sneaker\n",
            "Predicted Label =  7\n",
            "Prediction =  Sneaker\n"
          ]
        },
        {
          "data": {
            "image/png": "[encoded data removed]",
            "text/plain": [
              "<Figure size 432x288 with 1 Axes>"
            ]
          },
          "metadata": {
            "needs_background": "light"
          },
          "output_type": "display_data"
        },
        {
          "name": "stdout",
          "output_type": "stream",
          "text": [
            "Actual Label =  8  -  Bag\n",
            "Predicted Label =  8\n",
            "Prediction =  Bag\n"
          ]
        },
        {
          "data": {
            "image/png": "[encoded data removed]",
            "text/plain": [
              "<Figure size 432x288 with 1 Axes>"
            ]
          },
          "metadata": {
            "needs_background": "light"
          },
          "output_type": "display_data"
        },
        {
          "name": "stdout",
          "output_type": "stream",
          "text": [
            "Actual Label =  5  -  Sandal\n",
            "Predicted Label =  5\n",
            "Prediction =  Sandal\n"
          ]
        },
        {
          "data": {
            "image/png": "[encoded data removed]",
            "text/plain": [
              "<Figure size 432x288 with 1 Axes>"
            ]
          },
          "metadata": {
            "needs_background": "light"
          },
          "output_type": "display_data"
        },
        {
          "name": "stdout",
          "output_type": "stream",
          "text": [
            "Actual Label =  7  -  Sneaker\n",
            "Predicted Label =  7\n",
            "Prediction =  Sneaker\n"
          ]
        },
        {
          "data": {
            "image/png": "[encoded data removed]",
            "text/plain": [
              "<Figure size 432x288 with 1 Axes>"
            ]
          },
          "metadata": {
            "needs_background": "light"
          },
          "output_type": "display_data"
        },
        {
          "name": "stdout",
          "output_type": "stream",
          "text": [
            "Actual Label =  3  -  Dress\n",
            "Predicted Label =  3\n",
            "Prediction =  Dress\n",
            "Correct predictions =  5  out of  5\n",
            "Inorrect predictions =  0  out of  5\n"
          ]
        }
      ],
      "source": [
        "# Looking at some of our predictions\n",
        "\n",
        "label_names = {\n",
        "    0 : 'T-shirt/top',\n",
        "    1 : 'Trouser',\n",
        "    2 : 'Pullover',\n",
        "    3 : 'Dress',\n",
        "    4 : 'Coat',\n",
        "    5 : 'Sandal',\n",
        "    6 : 'Shirt',\n",
        "    7 : 'Sneaker',\n",
        "    8 : 'Bag',\n",
        "    9 : 'Ankle Boots'\n",
        "}\n",
        "l = list(label_names.values())\n",
        "t, f = 0, 0\n",
        "\n",
        "#Looping over a small part of the test set predictions\n",
        "for i in range(5, 10):\n",
        "    img = X_test_org[i]\n",
        "    plt.imshow(img)\n",
        "    plt.show()\n",
        "\n",
        "    a = int(Y_test.T[i])\n",
        "    print('Actual Label = ', a, ' - ', l[a])\n",
        "    pi = int(p[i])\n",
        "    print('Predicted Label = ', p[i])\n",
        "    print('Prediction = ', l[pi])\n",
        "    \n",
        "\n",
        "    if(p[i] == Y_test.T[i]):\n",
        "        t+=1\n",
        "    else:\n",
        "        f+=1\n",
        "\n",
        "print('Correct predictions = ', t, ' out of ', t+f)\n",
        "print('Inorrect predictions = ', f, ' out of ', t+f)\n",
        "    "
      ]
    }
  ],
  "metadata": {
    "colab": {
      "provenance": []
    },
    "kernelspec": {
      "display_name": "base",
      "language": "python",
      "name": "python3"
    },
    "language_info": {
      "codemirror_mode": {
        "name": "ipython",
        "version": 3
      },
      "file_extension": ".py",
      "mimetype": "text/x-python",
      "name": "python",
      "nbconvert_exporter": "python",
      "pygments_lexer": "ipython3",
      "version": "3.9.13"
    },
    "orig_nbformat": 4,
    "vscode": {
      "interpreter": {
        "hash": "dc07d24e2f18896857f0b2a651fe84ba40ce7b297e58d8804a308c8039f752a6"
      }
    }
  },
  "nbformat": 4,
  "nbformat_minor": 0
}
